{
 "metadata": {
  "language_info": {
   "codemirror_mode": {
    "name": "ipython",
    "version": 3
   },
   "file_extension": ".py",
   "mimetype": "text/x-python",
   "name": "python",
   "nbconvert_exporter": "python",
   "pygments_lexer": "ipython3",
   "version": "3.9.1-final"
  },
  "orig_nbformat": 2,
  "kernelspec": {
   "name": "python3",
   "display_name": "Python 3",
   "language": "python"
  }
 },
 "nbformat": 4,
 "nbformat_minor": 2,
 "cells": [
  {
   "cell_type": "code",
   "execution_count": 16,
   "metadata": {},
   "outputs": [],
   "source": [
    "# CREATE CASSANDRA CONNECTION\n",
    "import cassandra\n",
    "from cassandra.cluster import Cluster\n",
    "try: \n",
    "    cluster = Cluster(['127.0.0.1'])\n",
    "    session = cluster.connect()\n",
    "except Exception as e:\n",
    "    print(e)"
   ]
  },
  {
   "cell_type": "code",
   "execution_count": 17,
   "metadata": {},
   "outputs": [],
   "source": [
    "# CREATE A KEYSPACE TO DO OUR WORK\n",
    "try:\n",
    "    session.execute(\"\"\"CREATE KEYSPACE IF NOT EXISTS udacity WITH REPLICATION = {'class': 'SimpleStrategy', 'replication_factor':1}\"\"\")\n",
    "except Exception as e:\n",
    "    print(e)\n",
    "\n",
    "# SET THE KEYSPACE/SCHEMA NAME\n",
    "try:\n",
    "    session.set_keyspace('udacity')\n",
    "except Exception as e:\n",
    "    print(e)"
   ]
  },
  {
   "source": [
    "Imagine we would like to start creating a new Music Library of albums.\n",
    "\n",
    "- We want to ask 1 question of our data\n",
    "    -  Give me every album in my music library that was released by an Artist with Albumn Name in `DESC` Order and City In `DESC` Order\n",
    "    - select * from music_library WHERE ARTIST_NAME=\"The Beatles\"\n",
    "    \n",
    "- How should we model this data? What should be our Primary Key and Partition Key? \n",
    "- Since our data is looking for the ARTIST_NAME let's start with that. From there we will need to add other elements to make sure the Key is unique. We also need to add the CITY and ALBUM_NAME as Clustering Columns to sort the data. That should be enough to make the row key unique \n",
    "\n",
    "Table Name: music_library\n",
    "\n",
    "    - column 1: Year\n",
    "    - column 2: Artist Name\n",
    "    - column 3: Album Name\n",
    "    - Column 4: City\n",
    "    - PRIMARY KEY(artist name, album name, city)"
   ],
   "cell_type": "markdown",
   "metadata": {}
  },
  {
   "cell_type": "code",
   "execution_count": 18,
   "metadata": {},
   "outputs": [],
   "source": [
    "query = \"CREATE TABLE IF NOT EXISTS music_library \" \n",
    "query = query + \"(year int, artist_name text, album_name text, city text, PRIMARY KEY (artist_name, album_name, city))\"\n",
    "try:\n",
    " session.execute(query)\n",
    "except Exception as e:\n",
    " print(e)"
   ]
  },
  {
   "cell_type": "code",
   "execution_count": 19,
   "metadata": {},
   "outputs": [],
   "source": [
    "query = \"INSERT INTO music_library (year, artist_name, album_name, city)\"\n",
    "query = query + \" VALUES (%s, %s, %s, %s)\"\n",
    "\n",
    "try:\n",
    " session.execute(query, (1970, \"The Beatles\", \"Let it Be\", \"Liverpool\"))\n",
    "except Exception as e:\n",
    " print(e)\n",
    "\n",
    "try:\n",
    " session.execute(query, (1965, \"The Beatles\", \"Rubber Soul\", \"Oxford\"))\n",
    "except Exception as e:\n",
    " print(e)\n",
    "\n",
    "try:\n",
    " session.execute(query, (1964, \"The Beatles\", \"Beatles For Sale\", \"London\"))\n",
    "except Exception as e:\n",
    " print(e)\n",
    "\n",
    "try:\n",
    " session.execute(query, (1966, \"The Monkees\", \"The Monkees\", \"Los Angeles\"))\n",
    "except Exception as e:\n",
    " print(e)\n",
    "\n",
    "try:\n",
    " session.execute(query, (1970, \"The Carpenters\", \"Close To You\", \"San Diego\"))\n",
    "except Exception as e:\n",
    " print(e)"
   ]
  },
  {
   "cell_type": "code",
   "execution_count": 20,
   "metadata": {},
   "outputs": [
    {
     "output_type": "stream",
     "name": "stdout",
     "text": [
      "The Beatles Beatles For Sale London 1964\nThe Beatles Let it Be Liverpool 1970\nThe Beatles Rubber Soul Oxford 1965\n"
     ]
    }
   ],
   "source": [
    "# LET'S VALIDATE OUR DATA MODEL\n",
    "query = \"select * from music_library WHERE ARTIST_NAME='The Beatles' ALLOW FILTERING\"\n",
    "try:\n",
    " rows = session.execute(query)\n",
    "except Exception as e:\n",
    " print(e)\n",
    "\n",
    "for row in rows:\n",
    " print (row.artist_name, row.album_name, row.city, row.year)"
   ]
  },
  {
   "cell_type": "code",
   "execution_count": 21,
   "metadata": {},
   "outputs": [],
   "source": [
    "# FOR DEMO PURPOSES DROP THE TABLE\n",
    "try:\n",
    " session.execute('Drop table music_library')\n",
    "except Exception as e:\n",
    " print(e)"
   ]
  },
  {
   "cell_type": "code",
   "execution_count": 22,
   "metadata": {},
   "outputs": [],
   "source": [
    "# CLOSE THE SESSION AND CLUSTER CONNECTION\n",
    "session.shutdown()\n",
    "cluster.shutdown()"
   ]
  },
  {
   "cell_type": "code",
   "execution_count": null,
   "metadata": {},
   "outputs": [],
   "source": []
  }
 ]
}