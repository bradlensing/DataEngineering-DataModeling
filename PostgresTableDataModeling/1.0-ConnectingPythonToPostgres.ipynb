{
 "metadata": {
  "language_info": {
   "codemirror_mode": {
    "name": "ipython",
    "version": 3
   },
   "file_extension": ".py",
   "mimetype": "text/x-python",
   "name": "python",
   "nbconvert_exporter": "python",
   "pygments_lexer": "ipython3",
   "version": "3.9.1-final"
  },
  "orig_nbformat": 2,
  "kernelspec": {
   "name": "python3",
   "display_name": "Python 3",
   "language": "python"
  }
 },
 "nbformat": 4,
 "nbformat_minor": 2,
 "cells": [
  {
   "cell_type": "code",
   "execution_count": 1,
   "metadata": {},
   "outputs": [],
   "source": [
    "import psycopg2\n",
    "from psycopg2 import Error"
   ]
  },
  {
   "cell_type": "code",
   "execution_count": 3,
   "metadata": {},
   "outputs": [
    {
     "output_type": "stream",
     "name": "stdout",
     "text": [
      "PostgreSQL server information\n{'user': 'postgres', 'dbname': 'demo001', 'host': '127.0.0.1', 'port': '5432', 'tty': '', 'options': '', 'sslmode': 'prefer', 'sslcompression': '0', 'krbsrvname': 'postgres', 'target_session_attrs': 'any'} \n\nYou are connected to -  ('PostgreSQL 13.1 on x86_64-apple-darwin20.1.0, compiled by Apple clang version 12.0.0 (clang-1200.0.32.27), 64-bit',) \n\nPostgreSQL connection is closed\n"
     ]
    }
   ],
   "source": [
    "try:\n",
    "    # Connect to an existing database\n",
    "    connection = psycopg2.connect(user=\"postgres\",\n",
    "                                  password=\"1234\",\n",
    "                                  host=\"127.0.0.1\",\n",
    "                                  port=\"5432\",\n",
    "                                  database=\"demo001\")\n",
    "\n",
    "    # Create a cursor to perform database operations\n",
    "    cursor = connection.cursor()\n",
    "    # Print PostgreSQL details\n",
    "    print(\"PostgreSQL server information\")\n",
    "    print(connection.get_dsn_parameters(), \"\\n\")\n",
    "    # Executing a SQL query\n",
    "    cursor.execute(\"SELECT version();\")\n",
    "    # Fetch result\n",
    "    record = cursor.fetchone()\n",
    "    print(\"You are connected to - \", record, \"\\n\")\n",
    "\n",
    "except (Exception, Error) as error:\n",
    "    print(\"Error while connecting to PostgreSQL\", error)\n",
    "finally:\n",
    "    if (connection):\n",
    "        cursor.close()\n",
    "        connection.close()\n",
    "        print(\"PostgreSQL connection is closed\")"
   ]
  },
  {
   "source": [
    "#### Instead of worrying about commiting each transaction or getting a strange error for something unexpected. Set autocommit to true. This says after each call during this session, commit that one action and do not hold open the transaction for any other actions. One action = one transaction."
   ],
   "cell_type": "markdown",
   "metadata": {}
  },
  {
   "cell_type": "code",
   "execution_count": 6,
   "metadata": {},
   "outputs": [],
   "source": [
    "conn = psycopg2.connect(\"dbname=demo001 user=postgres password=1234\")\n",
    "conn.set_session(autocommit=True)"
   ]
  },
  {
   "cell_type": "code",
   "execution_count": 8,
   "metadata": {},
   "outputs": [
    {
     "output_type": "stream",
     "name": "stdout",
     "text": [
      "Table created successfully in PostgreSQL \nPostgreSQL connection is closed\n"
     ]
    }
   ],
   "source": [
    "try:\n",
    "    connection = psycopg2.connect(user=\"postgres\",\n",
    "                                  password=\"1234\",\n",
    "                                  host=\"127.0.0.1\",\n",
    "                                  port=\"5432\",\n",
    "                                  database=\"demo001\")\n",
    "\n",
    "    cursor = connection.cursor()\n",
    "    # SQL query to create a new table\n",
    "    create_table_query = '''CREATE TABLE mobile2\n",
    "          (ID INT PRIMARY KEY     NOT NULL,\n",
    "          MODEL           TEXT    NOT NULL,\n",
    "          PRICE         REAL); '''\n",
    "    # Execute a command: this creates a new table\n",
    "    cursor.execute(create_table_query)\n",
    "    connection.commit()\n",
    "    print(\"Table created successfully in PostgreSQL \")\n",
    "\n",
    "except (Exception, Error) as error:\n",
    "    print(\"Error while connecting to PostgreSQL\", error)\n",
    "finally:\n",
    "    if (connection):\n",
    "        cursor.close()\n",
    "        connection.close()\n",
    "        print(\"PostgreSQL connection is closed\")"
   ]
  },
  {
   "source": [
    "### This is the way shown forward."
   ],
   "cell_type": "markdown",
   "metadata": {}
  },
  {
   "cell_type": "code",
   "execution_count": 9,
   "metadata": {},
   "outputs": [],
   "source": [
    "conn = psycopg2.connect(\"dbname=demo001 user=postgres password=1234\")\n",
    "cur = conn.cursor()"
   ]
  },
  {
   "cell_type": "code",
   "execution_count": 10,
   "metadata": {},
   "outputs": [],
   "source": [
    "cur.execute(\"CREATE TABLE demo004 (col1 int, col2 int, col3 int);\")\n",
    "conn.commit()"
   ]
  },
  {
   "cell_type": "code",
   "execution_count": 11,
   "metadata": {},
   "outputs": [
    {
     "output_type": "stream",
     "name": "stdout",
     "text": [
      "[(0,)]\n"
     ]
    }
   ],
   "source": [
    "cur.execute(\"select count(*) from demo004\")\n",
    "print(cur.fetchall())"
   ]
  },
  {
   "cell_type": "code",
   "execution_count": 12,
   "metadata": {},
   "outputs": [],
   "source": [
    "cur.execute(\"drop table demo004\")"
   ]
  },
  {
   "cell_type": "code",
   "execution_count": 13,
   "metadata": {},
   "outputs": [],
   "source": [
    "conn.commit()"
   ]
  },
  {
   "cell_type": "code",
   "execution_count": null,
   "metadata": {},
   "outputs": [],
   "source": []
  }
 ]
}