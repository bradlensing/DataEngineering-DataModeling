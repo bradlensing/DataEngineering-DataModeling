{
 "metadata": {
  "language_info": {
   "codemirror_mode": {
    "name": "ipython",
    "version": 3
   },
   "file_extension": ".py",
   "mimetype": "text/x-python",
   "name": "python",
   "nbconvert_exporter": "python",
   "pygments_lexer": "ipython3",
   "version": "3.9.1-final"
  },
  "orig_nbformat": 2,
  "kernelspec": {
   "name": "python3",
   "display_name": "Python 3.9.1 64-bit ('3.9.1': pyenv)",
   "metadata": {
    "interpreter": {
     "hash": "ced2337b2754c651e4027dd7a892de1e779f91f3b670f4fbb5e8ffa7de9e14e2"
    }
   }
  }
 },
 "nbformat": 4,
 "nbformat_minor": 2,
 "cells": [
  {
   "source": [
    "### Part 1. Create an ETL Pipeline for Pre-Processing files using Cassandra DB"
   ],
   "cell_type": "markdown",
   "metadata": {}
  },
  {
   "cell_type": "code",
   "execution_count": 1,
   "metadata": {},
   "outputs": [],
   "source": [
    "# Import Python packages \n",
    "import pandas as pd\n",
    "import cassandra\n",
    "import re\n",
    "import os\n",
    "import glob\n",
    "import numpy as np\n",
    "import json\n",
    "import csv\n",
    "from prettytable import PrettyTable"
   ]
  },
  {
   "source": [
    "#### Creating list of filepaths to process original event csv data files"
   ],
   "cell_type": "markdown",
   "metadata": {}
  },
  {
   "cell_type": "code",
   "execution_count": 2,
   "metadata": {},
   "outputs": [
    {
     "output_type": "stream",
     "name": "stdout",
     "text": [
      "/Users/brad/Programming/Learning/DataEngineering/01-DataModeling/CassandraDataModeling/ProjectWorkspace\n"
     ]
    }
   ],
   "source": [
    "# CHECK CURRENT WORKING DIRECTORY\n",
    "print(os.getcwd())\n",
    "\n",
    "# GET CURRENT FOLDER AND SUBFOLDER EVENT DATA\n",
    "filepath = os.getcwd() + '/event_data'\n",
    "\n",
    "# CREATE A FOR LOOP THAT CREATES A LIST OF FILES AND COLLECT EACH FILEPATH\n",
    "for (root, dirs, files) in os.walk(filepath, topdown=False):\n",
    "    file_path_list = glob.glob(os.path.join(root,'*'))"
   ]
  },
  {
   "cell_type": "code",
   "execution_count": 3,
   "metadata": {},
   "outputs": [],
   "source": [
    "# INITIATING AN EMPTY LIST OF ROWS THAT WILL BE GENERATED FROM EACH FILE\n",
    "full_data_rows_list = [] \n",
    "    \n",
    "for f in file_path_list:\n",
    "\n",
    "# READ THE CSV FILE\n",
    "    with open(f, 'r', encoding = 'utf8', newline='') as csvfile:  \n",
    "        csvreader = csv.reader(csvfile) \n",
    "        next(csvreader)\n",
    "       \n",
    "        for line in csvreader:\n",
    "            full_data_rows_list.append(line) \n",
    "\n",
    "# CREATE CSV FILE TO INSERT THE DATA INTO\n",
    "csv.register_dialect('myDialect', quoting=csv.QUOTE_ALL, skipinitialspace=True)\n",
    "\n",
    "with open('event_datafile_new.csv', 'w', encoding = 'utf8', newline='') as f:\n",
    "    writer = csv.writer(f, dialect='myDialect')\n",
    "    writer.writerow(['artist','firstName','gender','itemInSession','lastName','length',\\\n",
    "                'level','location','sessionId','song','userId'])\n",
    "    for row in full_data_rows_list:\n",
    "        if (row[0] == ''):\n",
    "            continue\n",
    "        writer.writerow((row[0], row[2], row[3], row[4], row[5], row[6], row[7], row[8], row[12], row[13], row[16]))"
   ]
  },
  {
   "cell_type": "code",
   "execution_count": 4,
   "metadata": {},
   "outputs": [
    {
     "output_type": "stream",
     "name": "stdout",
     "text": [
      "6821\n"
     ]
    }
   ],
   "source": [
    "with open('event_datafile_new.csv', 'r', encoding = 'utf8') as f:\n",
    "    print(sum(1 for line in f))"
   ]
  },
  {
   "source": [
    "#### NOW WE CAN WORK WITH THE NEWLY CREATED CSV FILE IN OUR DIRECTORY. \n",
    "IT CONTAINS THE FOLLOWING COLUMNS:\n",
    "   - artist\n",
    "   - firstName\n",
    "   - gender\n",
    "   - itemInSession\n",
    "   - lastName\n",
    "   - length\n",
    "   - level\n",
    "   - location\n",
    "   - sessionId\n",
    "   - song\n",
    "   - userId\n",
    "   \n",
    "   BELOW IS A SCREENSHOT OF ITS APPEARANCE\n",
    "    ![caption](DataPreview.jpg)"
   ],
   "cell_type": "markdown",
   "metadata": {}
  },
  {
   "cell_type": "code",
   "execution_count": 6,
   "metadata": {},
   "outputs": [],
   "source": [
    "# CREATE THE CLUSTER, SESSION AND INSTANTIATE PRETTYTABLE\n",
    "from cassandra.cluster import Cluster\n",
    "cluster = Cluster()\n",
    "session = cluster.connect()\n",
    "x = PrettyTable()\n",
    "y = PrettyTable()\n",
    "z = PrettyTable()"
   ]
  },
  {
   "cell_type": "code",
   "execution_count": 7,
   "metadata": {},
   "outputs": [],
   "source": [
    "# CREATE THE KEYSPACE\n",
    "try:\n",
    "    session.execute(\"\"\"CREATE KEYSPACE IF NOT EXISTS sparkify \n",
    "        WITH REPLICATION = {'class': 'SimpleStrategy', 'replication_factor':1}\"\"\")\n",
    "except Exception as e:\n",
    "    print(e)"
   ]
  },
  {
   "cell_type": "code",
   "execution_count": 8,
   "metadata": {},
   "outputs": [],
   "source": [
    "# SET THE KEYSPACE\n",
    "try:\n",
    "    session.set_keyspace('sparkify')\n",
    "except Exception as e:\n",
    "    print(e)"
   ]
  },
  {
   "source": [
    "---\n",
    "#### Query 1:\n",
    "- **This table and query will return the following:** artist, song title and song's length in the music app history that was heard during sessionId = 338, and itemInSession = 4\n",
    "\n",
    "    - **Table Name:** session_item\n",
    "    - **Primary Key Columns:** sessionId, itemInSession\n",
    "    - **Cluster Column:** \n",
    "    - **Columns in the table will be:** aritist, song, length, sessionId and itemInSession"
   ],
   "cell_type": "markdown",
   "metadata": {}
  },
  {
   "cell_type": "code",
   "execution_count": 10,
   "metadata": {},
   "outputs": [],
   "source": [
    "# CREATE TABLE SESSION_ITEM\n",
    "query1 = \"\"\"CREATE TABLE IF NOT EXISTS session_item (sessionId int, itemInSession int, \n",
    "artist text, song text, length float, PRIMARY KEY (sessionId, itemInSession))\"\"\"\n",
    "\n",
    "try:\n",
    "    session.execute(query1)\n",
    "except Exception as e:\n",
    "    print(e)\n",
    "                "
   ]
  },
  {
   "cell_type": "code",
   "execution_count": 11,
   "metadata": {},
   "outputs": [],
   "source": [
    "# CREATE THE TABLE INSERT STATEMENTS \n",
    "file = 'event_datafile_new.csv'\n",
    "\n",
    "with open(file, encoding = 'utf8') as f:\n",
    "    csvreader = csv.reader(f)\n",
    "    next(csvreader)\n",
    "    for line in csvreader:\n",
    "        query1 = \"INSERT INTO session_item (sessionId, itemInSession, artist, song, length) \"\n",
    "        query1 = query1 + \" VALUES (%s, %s, %s, %s, %s) \"\n",
    "        session.execute(query1, (int(line[8]), int(line[3]), line[0], line[9], float(line[5])) )"
   ]
  },
  {
   "cell_type": "code",
   "execution_count": 12,
   "metadata": {},
   "outputs": [
    {
     "output_type": "stream",
     "name": "stdout",
     "text": [
      "+-----------+---------------------------------+--------------------+\n|   Artist  |               Song              |       Length       |\n+-----------+---------------------------------+--------------------+\n| Faithless | Music Matters (Mark Knight Dub) | 495.30731201171875 |\n+-----------+---------------------------------+--------------------+\n"
     ]
    }
   ],
   "source": [
    "# SELECT THE DATA AND VERIFY IS HAS BEEN INSERTED INTO EACH TABLE\n",
    "query1 = \"select artist, song, length from session_item WHERE sessionId = 338 AND itemInSession = 4\"\n",
    "try:\n",
    "    rows = session.execute(query1)\n",
    "except Exception as e:\n",
    "    print(e)\n",
    "\n",
    "for row in rows:\n",
    "    x.field_names = ['Artist', 'Song', 'Length']\n",
    "    x.add_row([row.artist, row.song, row.length])\n",
    "    print(x)"
   ]
  },
  {
   "source": [
    "---\n",
    "#### Query 2:\n",
    "- This table and query will return the following: name of artist, song (sorted by itemInSession) and user (first and last name) for userid = 10, sessionid = 182\n",
    "\n",
    "    - Table Name: user_session\n",
    "    - Primary Key Columns: userId, sessionId\n",
    "    - Cluster Column: itemInSession\n",
    "    - Columns in the table will be: itemInSession, artist, song, firstName and lastName"
   ],
   "cell_type": "markdown",
   "metadata": {}
  },
  {
   "cell_type": "code",
   "execution_count": 13,
   "metadata": {},
   "outputs": [],
   "source": [
    "# CREATE TABLE USER_SESSION\n",
    "query2 = \"\"\"CREATE TABLE IF NOT EXISTS user_session\n",
    "    (userId int, sessionId int, itemInSession int, artist text, song text, firstName text, lastName text, \n",
    "    PRIMARY KEY((userId, sessionId), itemInSession))\"\"\"\n",
    "\n",
    "try:\n",
    "    session.execute(query2)\n",
    "except Exception as e:\n",
    "    print(e)"
   ]
  },
  {
   "cell_type": "code",
   "execution_count": 14,
   "metadata": {},
   "outputs": [],
   "source": [
    "# CREATE THE TABLE INSERT STATEMENTS \n",
    "file = 'event_datafile_new.csv'\n",
    "\n",
    "with open(file, encoding = 'utf8') as f:\n",
    "    csvreader = csv.reader(f)\n",
    "    next(csvreader)\n",
    "    for line in csvreader:\n",
    "        query2 = \"INSERT INTO user_session (userId, sessionId, itemInSession, artist, song, firstName, lastName  ) \"\n",
    "        query2 = query2 + \" VALUES (%s, %s, %s, %s, %s, %s, %s) \"\n",
    "        session.execute(query2, (int(line[10]), int(line[8]), int(line[3]), line[0], line[9], line[1], line[4] ) )"
   ]
  },
  {
   "cell_type": "code",
   "execution_count": 15,
   "metadata": {},
   "outputs": [
    {
     "output_type": "stream",
     "name": "stdout",
     "text": [
      "+---------------+-------------------+------------------------------------------------------+------------+-----------+\n| itemInSession |       Artist      |                         Song                         | First Name | Last Name |\n+---------------+-------------------+------------------------------------------------------+------------+-----------+\n|       0       |  Down To The Bone |                  Keep On Keepin' On                  |   Sylvie   |    Cruz   |\n|       1       |    Three Drives   |                     Greece 2000                      |   Sylvie   |    Cruz   |\n|       2       | Sebastien Tellier |                      Kilometer                       |   Sylvie   |    Cruz   |\n|       3       |   Lonnie Gordon   | Catch You Baby (Steve Pitron & Max Sanna Radio Edit) |   Sylvie   |    Cruz   |\n+---------------+-------------------+------------------------------------------------------+------------+-----------+\n"
     ]
    }
   ],
   "source": [
    "# SELECT THE DATA AND VERIFY IS HAS BEEN INSERTED INTO EACH TABLE\n",
    "query = \"SELECT itemInSession, artist, song, firstName, lastName \\\n",
    "        FROM user_session WHERE userId = 10 AND sessionId = 182\"\n",
    "\n",
    "try:\n",
    "    rows = session.execute(query)\n",
    "except Exception as e:\n",
    "    print(e)\n",
    "\n",
    "for row in rows:  \n",
    "    y.field_names = ['itemInSession', 'Artist', 'Song', 'First Name', 'Last Name']\n",
    "    y.add_row([row.iteminsession, row.artist, row.song, row.firstname, row.lastname])\n",
    "print(y)  "
   ]
  },
  {
   "source": [
    "---\n",
    "### Query 3:\n",
    "Give me every user name (first and last) in my music app history who listened to the song 'All Hands Against His Own'\n",
    "\n",
    "- Table Name: app_history\n",
    "- Primary Key Columns: song\n",
    "- Cluster Column: userId\n",
    "- Columns in the table will be: song, firstName and lastName"
   ],
   "cell_type": "markdown",
   "metadata": {}
  },
  {
   "cell_type": "code",
   "execution_count": 16,
   "metadata": {},
   "outputs": [],
   "source": [
    "# CREATE TABLE APP_HISTORY\n",
    "query3 = \"\"\"CREATE TABLE IF NOT EXISTS app_history\n",
    "    (song text, userId int, firstName text, lastName text, PRIMARY KEY(song, userId))\"\"\"\n",
    "\n",
    "try:\n",
    "    session.execute(query3)\n",
    "except Exception as e:\n",
    "    print(e)"
   ]
  },
  {
   "cell_type": "code",
   "execution_count": 17,
   "metadata": {},
   "outputs": [],
   "source": [
    "# CREATE THE TABLE INSERT STATEMENTS \n",
    "file = 'event_datafile_new.csv'\n",
    "\n",
    "with open(file, encoding = 'utf8') as f:\n",
    "    csvreader = csv.reader(f)\n",
    "    next(csvreader)\n",
    "    for line in csvreader:\n",
    "        query3 = \"INSERT INTO app_history (song, userId, firstName, lastName) \"\n",
    "        query3 = query3 + \" VALUES (%s, %s, %s, %s) \"\n",
    "        session.execute(query3, (line[9], int(line[10]), line[1], line[4] ) ) "
   ]
  },
  {
   "cell_type": "code",
   "execution_count": 18,
   "metadata": {},
   "outputs": [
    {
     "output_type": "stream",
     "name": "stdout",
     "text": [
      "+------------+-----------+\n| First Name | Last Name |\n+------------+-----------+\n| Jacqueline |   Lynch   |\n|   Tegan    |   Levine  |\n|    Sara    |  Johnson  |\n+------------+-----------+\n"
     ]
    }
   ],
   "source": [
    "# SELECT THE DATA AND VERIFY IS HAS BEEN INSERTED INTO EACH TABLE\n",
    "query3 = \"SELECT firstName, lastName \\\n",
    "        FROM app_history WHERE song = 'All Hands Against His Own'\"\n",
    "try:\n",
    "    rows = session.execute(query3)\n",
    "except Exception as e:\n",
    "    print(e)\n",
    "\n",
    "for row in rows:\n",
    "    z.field_names = ['First Name', 'Last Name']\n",
    "    z.add_row([row.firstname, row.lastname])\n",
    "print(z)  "
   ]
  },
  {
   "source": [
    "---\n",
    "#### Drop the tables before closing out the sessions"
   ],
   "cell_type": "markdown",
   "metadata": {}
  },
  {
   "cell_type": "code",
   "execution_count": 19,
   "metadata": {},
   "outputs": [
    {
     "output_type": "stream",
     "name": "stdout",
     "text": [
      "errors={'127.0.0.1:9042': 'Client request timeout. See Session.execute[_async](timeout)'}, last_host=127.0.0.1:9042\n"
     ]
    }
   ],
   "source": [
    "try:\n",
    "    session.execute('Drop table session_item')\n",
    "except Exception as e:\n",
    "    print(e)"
   ]
  },
  {
   "cell_type": "code",
   "execution_count": 20,
   "metadata": {},
   "outputs": [],
   "source": [
    "try:\n",
    "    session.execute('Drop table user_session')\n",
    "except Exception as e:\n",
    "    print(e)"
   ]
  },
  {
   "cell_type": "code",
   "execution_count": 21,
   "metadata": {},
   "outputs": [
    {
     "output_type": "stream",
     "name": "stdout",
     "text": [
      "errors={'127.0.0.1:9042': 'Client request timeout. See Session.execute[_async](timeout)'}, last_host=127.0.0.1:9042\n"
     ]
    }
   ],
   "source": [
    "try:\n",
    "    session.execute('Drop table app_history')\n",
    "except Exception as e:\n",
    "    print(e)"
   ]
  },
  {
   "source": [
    "#### Close the session and cluster connection"
   ],
   "cell_type": "markdown",
   "metadata": {}
  },
  {
   "cell_type": "code",
   "execution_count": 22,
   "metadata": {},
   "outputs": [],
   "source": [
    "session.shutdown()\n",
    "cluster.shutdown()"
   ]
  },
  {
   "cell_type": "code",
   "execution_count": null,
   "metadata": {},
   "outputs": [],
   "source": []
  }
 ]
}