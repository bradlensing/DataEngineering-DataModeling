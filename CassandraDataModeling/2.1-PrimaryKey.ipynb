{
 "metadata": {
  "language_info": {
   "codemirror_mode": {
    "name": "ipython",
    "version": 3
   },
   "file_extension": ".py",
   "mimetype": "text/x-python",
   "name": "python",
   "nbconvert_exporter": "python",
   "pygments_lexer": "ipython3",
   "version": "3.9.1-final"
  },
  "orig_nbformat": 2,
  "kernelspec": {
   "name": "python3",
   "display_name": "Python 3",
   "language": "python"
  }
 },
 "nbformat": 4,
 "nbformat_minor": 2,
 "cells": [
  {
   "cell_type": "code",
   "execution_count": 1,
   "metadata": {},
   "outputs": [],
   "source": [
    "# CREATE CASSANDRA CONNECTION\n",
    "import cassandra\n",
    "from cassandra.cluster import Cluster\n",
    "try: \n",
    "    cluster = Cluster(['127.0.0.1'])\n",
    "    session = cluster.connect()\n",
    "except Exception as e:\n",
    "    print(e)"
   ]
  },
  {
   "cell_type": "code",
   "execution_count": 2,
   "metadata": {},
   "outputs": [],
   "source": [
    "# CREATE A KEYSPACE TO DO OUR WORK\n",
    "try:\n",
    "    session.execute(\"\"\"CREATE KEYSPACE IF NOT EXISTS udacity WITH REPLICATION = {'class': 'SimpleStrategy', 'replication_factor':1}\"\"\")\n",
    "except Exception as e:\n",
    "    print(e)"
   ]
  },
  {
   "cell_type": "code",
   "execution_count": 3,
   "metadata": {},
   "outputs": [],
   "source": [
    "# SET THE KEYSPACE/SCHEMA NAME\n",
    "try:\n",
    "    session.set_keyspace('udacity')\n",
    "except Exception as e:\n",
    "    print(e)"
   ]
  },
  {
   "source": [
    "Imagine we would like to start creating a new Music Library of albums. We are going to work with one of the queries from 2.0.\n",
    "- We want to ask 1 question of our data \n",
    "    - Give me every album in my music library that was released in a given year\n",
    "    - select * from music_library WHERE YEAR=1970\n",
    "\n",
    "How should the data be modeled? What should be our Primary Key and Partition Key? Since our data is looking for the YEAR let's start with that. Is Partitioning our data by year a good idea? In this case our data is very small, but if we had a larger data set of albums partitions by YEAR might be a find choice. We would need to validate from our dataset. We want an equal spread of the data. \n",
    "\n",
    "Table Name: music_library\n",
    "- column 1: Year\n",
    "- column 2: Artist Name\n",
    "- column 3: Album Name\n",
    "- column 4: City\n",
    "- PRIMARY KEY(year)"
   ],
   "cell_type": "markdown",
   "metadata": {}
  },
  {
   "cell_type": "code",
   "execution_count": 4,
   "metadata": {},
   "outputs": [],
   "source": [
    "query = \"CREATE TABLE IF NOT EXISTS music_library \"\n",
    "query = query + \"(year int, artist_name text, album_name text, city text, PRIMARY KEY (year))\"\n",
    "try:\n",
    " session.execute(query)\n",
    "except Exception as e:\n",
    " print(e)"
   ]
  },
  {
   "cell_type": "code",
   "execution_count": 7,
   "metadata": {},
   "outputs": [],
   "source": [
    "query = \"INSERT INTO music_library (year, artist_name, album_name, city)\"\n",
    "query = query + \" VALUES (%s, %s, %s, %s)\"\n",
    "\n",
    "try:\n",
    " session.execute(query, (1970, \"The Beatles\", \"Let it Be\", \"Liverpool\"))\n",
    "except Exception as e:\n",
    " print(e)\n",
    "\n",
    "try:\n",
    " session.execute(query, (1965, \"The Beatles\", \"Rubber Soul\", \"Oxford\"))\n",
    "except Exception as e:\n",
    " print(e)\n",
    "\n",
    "try:\n",
    " session.execute(query, (1965, \"The Who\", \"My Generation\", \"London\"))\n",
    "except Exception as e:\n",
    " print(e)\n",
    "\n",
    "try:\n",
    " session.execute(query, (1966, \"The Monkees\", \"The Monkees\", \"Los Angeles \"))\n",
    "except Exception as e:\n",
    " print(e)\n",
    "\n",
    "try:\n",
    " session.execute(query, (1970, \"The Carpenters\", \"Close To You\", \"San Die\")) \n",
    "except Exception as e:\n",
    " print(e)"
   ]
  },
  {
   "cell_type": "code",
   "execution_count": 8,
   "metadata": {},
   "outputs": [
    {
     "output_type": "stream",
     "name": "stdout",
     "text": [
      "1965 The Who My Generation London\n"
     ]
    }
   ],
   "source": [
    "# THE PROBLEM ABOVE IS WITH THE PRIMARY KEY BEING YEAR IT WILL OVERWRITE PREVIOUS DATA WITH THAT KEY\n",
    "query = \"select * from music_library WHERE YEAR=1965\" \n",
    "try:\n",
    " rows = session.execute(query)\n",
    "except Exception as e:\n",
    " print(e)\n",
    "\n",
    "for row in rows:\n",
    " print (row.year, row.artist_name, row.album_name, row.city)"
   ]
  },
  {
   "source": [
    "Try Again. Focus on making the PRIMARY KEY unique. Look at our dataset do we have anything that is unique for each row? \n",
    "- We have a couple of options (City and Album Name) but that will not get us the query we need which is looking for album's in a particular year. \n",
    "- Let's make a composite key of the `YEAR` AND `ALBUM NAME`. This is assuming that an album name is unique to the year it was released. "
   ],
   "cell_type": "markdown",
   "metadata": {}
  },
  {
   "cell_type": "code",
   "execution_count": 9,
   "metadata": {},
   "outputs": [],
   "source": [
    "query = \"CREATE TABLE IF NOT EXISTS music_library1\"\n",
    "query = query + \"(year int, artist_name text, album_name text, city text, PRIMARY KEY (year, album_name))\"\n",
    "try:\n",
    " session.execute(query)\n",
    "except Exception as e:\n",
    " print(e)"
   ]
  },
  {
   "cell_type": "code",
   "execution_count": 10,
   "metadata": {},
   "outputs": [],
   "source": [
    "query = \"INSERT INTO music_library1 (year, artist_name, album_name, city)\"\n",
    "query = query + \" VALUES (%s, %s, %s, %s)\"\n",
    "\n",
    "try:\n",
    " session.execute(query, (1970, \"The Beatles\", \"Let it Be\", \"Liverpool\"))\n",
    "except Exception as e:\n",
    " print(e)\n",
    "\n",
    "try:\n",
    " session.execute(query, (1965, \"The Beatles\", \"Rubber Soul\", \"Oxford\"))\n",
    "except Exception as e:\n",
    " print(e)\n",
    "\n",
    "try:\n",
    " session.execute(query, (1965, \"The Who\", \"My Generation\", \"London\"))\n",
    "except Exception as e:\n",
    " print(e)\n",
    "\n",
    "try:\n",
    " session.execute(query, (1966, \"The Monkees\", \"The Monkees\", \"Los Angeles \"))\n",
    "except Exception as e:\n",
    " print(e)\n",
    "\n",
    "try:\n",
    " session.execute(query, (1970, \"The Carpenters\", \"Close To You\", \"San Die\")) \n",
    "except Exception as e:\n",
    " print(e)"
   ]
  },
  {
   "cell_type": "code",
   "execution_count": 11,
   "metadata": {},
   "outputs": [
    {
     "output_type": "stream",
     "name": "stdout",
     "text": [
      "1970 The Beatles Let it Be Liverpool\n"
     ]
    }
   ],
   "source": [
    "# CAN NOW QUERY BOTH RECORDS BECAUSE THERE IS UNIQUE PRIMARY KEY\n",
    "query = \"select * from music_library1 WHERE album_name='Let it Be' ALLOW FILTERING\" \n",
    "try:\n",
    " rows = session.execute(query)\n",
    "except Exception as e:\n",
    " print(e)\n",
    "\n",
    "for row in rows:\n",
    " print (row.year, row.artist_name, row.album_name, row.city)"
   ]
  },
  {
   "cell_type": "code",
   "execution_count": 52,
   "metadata": {},
   "outputs": [],
   "source": [
    "try:\n",
    " session.execute('Drop table music_library')\n",
    "except Exception as e:\n",
    " print(e)\n",
    "\n",
    "try:\n",
    " session.execute('Drop table music_library1')\n",
    "except Exception as e:\n",
    " print(e)"
   ]
  },
  {
   "cell_type": "code",
   "execution_count": 12,
   "metadata": {},
   "outputs": [],
   "source": [
    "# CLOSE THE SESSION AND CLUSTER CONNECTION\n",
    "session.shutdown()\n",
    "cluster.shutdown()"
   ]
  },
  {
   "cell_type": "code",
   "execution_count": null,
   "metadata": {},
   "outputs": [],
   "source": []
  }
 ]
}