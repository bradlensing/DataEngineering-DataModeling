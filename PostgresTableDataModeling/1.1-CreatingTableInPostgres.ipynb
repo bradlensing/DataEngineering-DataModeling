{
 "metadata": {
  "language_info": {
   "codemirror_mode": {
    "name": "ipython",
    "version": 3
   },
   "file_extension": ".py",
   "mimetype": "text/x-python",
   "name": "python",
   "nbconvert_exporter": "python",
   "pygments_lexer": "ipython3",
   "version": "3.9.1-final"
  },
  "orig_nbformat": 2,
  "kernelspec": {
   "name": "python3",
   "display_name": "Python 3",
   "language": "python"
  }
 },
 "nbformat": 4,
 "nbformat_minor": 2,
 "cells": [
  {
   "cell_type": "code",
   "execution_count": 1,
   "metadata": {},
   "outputs": [],
   "source": [
    "import psycopg2\n",
    "from psycopg2 import Error"
   ]
  },
  {
   "cell_type": "code",
   "execution_count": 2,
   "metadata": {},
   "outputs": [],
   "source": [
    "# Connect to an existing database\n",
    "try:\n",
    "    connection = psycopg2.connect(user=\"\",\n",
    "                                  password=\"\",\n",
    "                                  host=\"127.0.0.1\",\n",
    "                                  port=\"5432\",\n",
    "                                  database=\"postgres\")\n",
    "except (Exception, Error) as error:\n",
    "    print(\"Error while connecting to PostgreSQL\", error)"
   ]
  },
  {
   "source": [
    "### Using automactic commit so that each action is commited without having to call conn.commit() after each command. This ability to rollback and commit transactions is a feature of Relational Databases. \""
   ],
   "cell_type": "markdown",
   "metadata": {}
  },
  {
   "cell_type": "code",
   "execution_count": 3,
   "metadata": {},
   "outputs": [],
   "source": [
    "connection.set_session(autocommit=True)"
   ]
  },
  {
   "cell_type": "code",
   "execution_count": 6,
   "metadata": {},
   "outputs": [],
   "source": [
    "# CREATE YOUR CURSOR\n",
    "try: \n",
    "    cursor = connection.cursor()\n",
    "except psycopg2.Error as e:\n",
    "    print(\"Error while connecting to PostgreSQL\", e)"
   ]
  },
  {
   "cell_type": "code",
   "execution_count": 5,
   "metadata": {},
   "outputs": [
    {
     "output_type": "stream",
     "name": "stdout",
     "text": [
      "relation \"postgres\" does not exist\nLINE 1: SELECT * FROM postgres\n                      ^\n\n"
     ]
    }
   ],
   "source": [
    "# TEST THE CONNECTION AND ERROR HANDLING\n",
    "try:\n",
    "    cursor.execute(\"SELECT * FROM postgres\")\n",
    "except psycopg2.Error as e:\n",
    "    print(e)"
   ]
  },
  {
   "cell_type": "code",
   "execution_count": 7,
   "metadata": {},
   "outputs": [
    {
     "output_type": "stream",
     "name": "stdout",
     "text": [
      "database \"demo002\" already exists\n\n"
     ]
    }
   ],
   "source": [
    "try:\n",
    "    cursor.execute(\"CREATE DATABASE demo002\")\n",
    "except psycopg2.Error as e:\n",
    "    print(e)"
   ]
  },
  {
   "source": [
    "### Close our connection to the default database, reconnect to get a new cursor."
   ],
   "cell_type": "markdown",
   "metadata": {}
  },
  {
   "cell_type": "code",
   "execution_count": 8,
   "metadata": {},
   "outputs": [],
   "source": [
    "# Close connection to the default database, reconnect to the newly created one and get a new cursor.\n",
    "try:\n",
    "    connection.close()\n",
    "except psycopg2.Error as e:\n",
    "    print(e)\n",
    "\n",
    "try:\n",
    "    connection = psycopg2.connect(user=\"\",\n",
    "                                  password=\"\",\n",
    "                                  host=\"127.0.0.1\",\n",
    "                                  port=\"5432\",\n",
    "                                  database=\"demo001\")\n",
    "except (Exception, Error) as error:\n",
    "    print(\"Error while connecting to PostgreSQL\", error)\n",
    "\n",
    "try: \n",
    "    cursor = connection.cursor()\n",
    "except psycopg2.Error as e:\n",
    "    print(\"Error while connecting to PostgreSQL\", e)\n",
    "\n",
    "connection.set_session(autocommit=True)"
   ]
  },
  {
   "cell_type": "code",
   "execution_count": 9,
   "metadata": {},
   "outputs": [],
   "source": [
    "# CREATE A TABLE IN THE DB\n",
    "try:\n",
    "    cursor.execute(\"CREATE TABLE IF NOT EXISTS demo001 (album_name varchar, artist_name varchar, year int);\")\n",
    "except psycopg2.Error as e:\n",
    "    print(e)"
   ]
  },
  {
   "cell_type": "code",
   "execution_count": 10,
   "metadata": {},
   "outputs": [
    {
     "output_type": "stream",
     "name": "stdout",
     "text": [
      "[(1,)]\n"
     ]
    }
   ],
   "source": [
    "# QUERY THE COUNT OF ITEMS IN DB\n",
    "try:\n",
    "    cursor.execute(\"select count(*) demo001\")\n",
    "except psycopg2.Error as e:\n",
    "    print(e)\n",
    "print(cursor.fetchall())"
   ]
  },
  {
   "cell_type": "code",
   "execution_count": 11,
   "metadata": {},
   "outputs": [],
   "source": [
    "# INSERT VALUES INTO TABLE\n",
    "try:\n",
    "    cursor.execute(\"INSERT INTO demo001 (album_name, artist_name, year)VALUES (%s, %s, %s)\", (\"Let It Be\", \"The Beatles\", 1970))\n",
    "except psycopg2.Error as e: \n",
    "    print(\"Error: Inserting Rows\")\n",
    "    print (e)\n",
    "\n",
    "try:\n",
    "    cursor.execute(\"INSERT INTO demo001 (album_name, artist_name, year) VALUES (%s, %s, %s)\", (\"Rubber Soul\", \"The Beatles\", 1965))\n",
    "except psycopg2.Error as e:\n",
    "    print(\"Error: Inserting Rows\")\n",
    "    print (e)"
   ]
  },
  {
   "cell_type": "code",
   "execution_count": 12,
   "metadata": {},
   "outputs": [
    {
     "output_type": "stream",
     "name": "stdout",
     "text": [
      "('Let It Be', 'The Beatles', 1970)\n('Rubber Soul', 'The Beatles', 1965)\n"
     ]
    }
   ],
   "source": [
    "# LOOP THROUGH AND PRINT OUT EACH SONG IN DB\n",
    "try:\n",
    "    cursor.execute(\"SELECT * FROM demo001;\")\n",
    "except psycopg2.Error as e:\n",
    "    print (e)\n",
    "\n",
    "row = cursor.fetchone()\n",
    "while row:\n",
    "    print(row)\n",
    "    row = cursor.fetchone()"
   ]
  },
  {
   "cell_type": "code",
   "execution_count": 13,
   "metadata": {},
   "outputs": [],
   "source": [
    "# DROP THE CREATED TABLE, CLOSE CURSOR AND CLOSE CONNECTION\n",
    "cursor.execute(\"DROP table demo001\")\n",
    "cursor.close()\n",
    "connection.close()"
   ]
  },
  {
   "cell_type": "code",
   "execution_count": null,
   "metadata": {},
   "outputs": [],
   "source": []
  }
 ]
}