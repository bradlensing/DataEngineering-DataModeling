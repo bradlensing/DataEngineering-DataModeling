{
 "metadata": {
  "language_info": {
   "codemirror_mode": {
    "name": "ipython",
    "version": 3
   },
   "file_extension": ".py",
   "mimetype": "text/x-python",
   "name": "python",
   "nbconvert_exporter": "python",
   "pygments_lexer": "ipython3",
   "version": "3.9.1-final"
  },
  "orig_nbformat": 2,
  "kernelspec": {
   "name": "python3",
   "display_name": "Python 3",
   "language": "python"
  }
 },
 "nbformat": 4,
 "nbformat_minor": 2,
 "cells": [
  {
   "cell_type": "code",
   "execution_count": 1,
   "metadata": {},
   "outputs": [],
   "source": [
    "# CREATE CASSANDRA CONNECTION\n",
    "import cassandra\n",
    "from cassandra.cluster import Cluster\n",
    "try: \n",
    "    cluster = Cluster(['127.0.0.1'])\n",
    "    session = cluster.connect()\n",
    "except Exception as e:\n",
    "    print(e)"
   ]
  },
  {
   "cell_type": "code",
   "execution_count": 2,
   "metadata": {},
   "outputs": [
    {
     "output_type": "stream",
     "name": "stdout",
     "text": [
      "Error from server: code=2200 [Invalid query] message=\"No keyspace has been specified. USE a keyspace, or explicitly specify keyspace.tablename\"\n"
     ]
    }
   ],
   "source": [
    "# TEST THE CONNECTION SHOULD ERROR\n",
    "try:\n",
    "    session.execute(\"\"\"select * from db001\"\"\")\n",
    "except Exception as e:\n",
    "    print(e)"
   ]
  },
  {
   "cell_type": "code",
   "execution_count": 3,
   "metadata": {},
   "outputs": [],
   "source": [
    "# CREATE A KEYSPACE TO DO OUR WORK\n",
    "try:\n",
    "    session.execute(\"\"\"CREATE KEYSPACE IF NOT EXISTS udacity WITH REPLICATION = {'class': 'SimpleStrategy', 'replication_factor':1}\"\"\")\n",
    "except Exception as e:\n",
    "    print(e)"
   ]
  },
  {
   "cell_type": "code",
   "execution_count": 4,
   "metadata": {},
   "outputs": [],
   "source": [
    "# SET THE KEYSPACE/SCHEMA NAME\n",
    "try:\n",
    "    session.set_keyspace('udacity')\n",
    "except Exception as e:\n",
    "    print(e)"
   ]
  },
  {
   "cell_type": "code",
   "execution_count": 5,
   "metadata": {},
   "outputs": [],
   "source": [
    "# CREATE A TABLE(S) IN THE DATABASE\n",
    "query = \"CREATE TABLE IF NOT EXISTS music_library\"\n",
    "query = query + \"(year int, artist_name text, album_name text, PRIMARY KEY (year, artist_name))\"\n",
    "try:\n",
    "    session.execute(query)\n",
    "except Exception as e:\n",
    "    print(e)\n",
    "\n",
    "query = \"CREATE TABLE IF NOT EXISTS album_library\"\n",
    "query = query + \"(artist_name text, year int, album_name text, PRIMARY KEY (artist_name, year))\"\n",
    "try:\n",
    "    session.execute(query)\n",
    "except Exception as e:\n",
    "    print(e)"
   ]
  },
  {
   "cell_type": "code",
   "execution_count": 6,
   "metadata": {},
   "outputs": [
    {
     "output_type": "stream",
     "name": "stdout",
     "text": [
      "Error from server: code=1100 [Coordinator node timed out waiting for replica nodes' responses] message=\"Operation timed out - received only 0 responses.\" info={'consistency': 'LOCAL_ONE', 'required_responses': 1, 'received_responses': 0, 'write_type': 'SIMPLE'}\n",
      "Error from server: code=1100 [Coordinator node timed out waiting for replica nodes' responses] message=\"Operation timed out - received only 0 responses.\" info={'consistency': 'LOCAL_ONE', 'required_responses': 1, 'received_responses': 0, 'write_type': 'SIMPLE'}\n"
     ]
    }
   ],
   "source": [
    "# INSERT SOME DATA INTO TABLE\n",
    "query = \"INSERT INTO music_library (year, artist_name, album_name)\"\n",
    "query = query + \" VALUES (%s, %s, %s)\"\n",
    "\n",
    "query1 = \"INSERT INTO album_library (artist_name, year, album_name)\"\n",
    "query1 = query1 + \" VALUES (%s, %s, %s)\"\n",
    "\n",
    "try:\n",
    " session.execute(query, (1970, \"The Beatles\", \"Let it Be\"))\n",
    "except Exception as e:\n",
    " print(e)\n",
    "\n",
    "try:\n",
    " session.execute(query, (1965, \"The Beatles\", \"Rubber Soul\")),\n",
    "except Exception as e:\n",
    " print(e)\n",
    "try:\n",
    " session.execute(query, (1965, \"The Who\", \"My Generation\")),\n",
    "except Exception as e:\n",
    " print(e)\n",
    "\n",
    "try:\n",
    " session.execute(query, (1966, \"The Monkees\", \"The Monkees\")),\n",
    "except Exception as e:\n",
    " print(e)\n",
    "\n",
    "try:\n",
    " session.execute(query, (1970, \"The Carpenters\", \"Close To \")),\n",
    "except Exception as e:\n",
    " print(e)\n",
    "\n",
    "try:\n",
    " session.execute(query1, (\"The Beatles\", 1970, \"Let it Be\")),\n",
    "except Exception as e:\n",
    " print(e)\n",
    "\n",
    "try:\n",
    " session.execute(query1, (\"The Beatles\", 1965, \"Rubber Soul \")),\n",
    "except Exception as e:\n",
    " print(e)\n",
    "\n",
    "try:\n",
    " session.execute(query1, (\"The Who\", 1965, \"My Generation\")),\n",
    "except Exception as e:\n",
    " print(e)\n",
    "\n",
    "try:\n",
    " session.execute(query1, (\"The Monkees\", 1966, \"The Monkees \")),\n",
    "except Exception as e:\n",
    " print(e)\n",
    "\n",
    "try:\n",
    " session.execute(query1, (\"The Carpenters\", 1970, \"Close To You\")),\n",
    "except Exception as e:\n",
    " print(e)"
   ]
  },
  {
   "source": [
    "### Inserting duplicate data into two tables might feel weird. \n",
    "- If I just normalized these tables, I wouldn't have to have extra copies! While this is true, remember there are no JOINS in Apache Cassandra. \n",
    "- For the benefit of high availibity and scalabity denormalization must be how this is done."
   ],
   "cell_type": "markdown",
   "metadata": {}
  },
  {
   "cell_type": "code",
   "execution_count": 7,
   "metadata": {},
   "outputs": [
    {
     "output_type": "stream",
     "name": "stdout",
     "text": [
      "1970 The Beatles Let it Be\n1970 The Carpenters Close To \n"
     ]
    }
   ],
   "source": [
    "# VALIDATE MUSIC_LIBRARY DATA MODEL\n",
    "query = \"select * from music_library WHERE YEAR=1970\"\n",
    "try:\n",
    " rows = session.execute(query)\n",
    "except Exception as e:\n",
    " print(e)\n",
    "\n",
    "for row in rows:\n",
    " print (row.year, row.artist_name, row.album_name,)"
   ]
  },
  {
   "cell_type": "code",
   "execution_count": 8,
   "metadata": {},
   "outputs": [
    {
     "output_type": "stream",
     "name": "stdout",
     "text": [
      "The Beatles 1965 Rubber Soul \nThe Beatles 1970 Let it Be\n"
     ]
    }
   ],
   "source": [
    "# VALIDATE ALBUM_LIBRARY DATA MODEL\n",
    "query = \"select * from album_library WHERE ARTIST_NAME='The Beatles'\"\n",
    "try:\n",
    " rows = session.execute(query)\n",
    "except Exception as e:\n",
    " print(e)\n",
    "\n",
    "for row in rows:\n",
    " print (row.artist_name, row.year, row.album_name)"
   ]
  },
  {
   "cell_type": "code",
   "execution_count": 9,
   "metadata": {},
   "outputs": [
    {
     "output_type": "stream",
     "name": "stdout",
     "text": [
      "errors={'127.0.0.1:9042': 'Client request timeout. See Session.execute[_async](timeout)'}, last_host=127.0.0.1:9042\n"
     ]
    }
   ],
   "source": [
    "# DROP THE CREATED TABLE FOR DEMO PURPOSES\n",
    "query = \"DROP table music_library\"\n",
    "try:\n",
    "    rows = session.execute(query)\n",
    "except Exception as e:\n",
    "    print(e)\n",
    "\n",
    "query = \"DROP table album_library\"\n",
    "try:\n",
    "    rows = session.execute(query)\n",
    "except Exception as e:\n",
    "    print(e)"
   ]
  },
  {
   "cell_type": "code",
   "execution_count": 10,
   "metadata": {},
   "outputs": [],
   "source": [
    "# CLOSE SESSION AND CLUSTER CONNECTION\n",
    "session.shutdown()\n",
    "cluster.shutdown()"
   ]
  },
  {
   "cell_type": "code",
   "execution_count": null,
   "metadata": {},
   "outputs": [],
   "source": []
  }
 ]
}