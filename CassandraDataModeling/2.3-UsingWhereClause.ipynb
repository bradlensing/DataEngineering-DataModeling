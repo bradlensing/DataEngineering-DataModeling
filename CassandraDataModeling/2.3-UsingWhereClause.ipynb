{
 "metadata": {
  "language_info": {
   "codemirror_mode": {
    "name": "ipython",
    "version": 3
   },
   "file_extension": ".py",
   "mimetype": "text/x-python",
   "name": "python",
   "nbconvert_exporter": "python",
   "pygments_lexer": "ipython3",
   "version": "3.9.1-final"
  },
  "orig_nbformat": 2,
  "kernelspec": {
   "name": "python3",
   "display_name": "Python 3",
   "language": "python"
  }
 },
 "nbformat": 4,
 "nbformat_minor": 2,
 "cells": [
  {
   "cell_type": "code",
   "execution_count": 1,
   "metadata": {},
   "outputs": [],
   "source": [
    "# CREATE CASSANDRA CONNECTION\n",
    "import cassandra\n",
    "from cassandra.cluster import Cluster\n",
    "try: \n",
    "    cluster = Cluster(['127.0.0.1'])\n",
    "    session = cluster.connect()\n",
    "except Exception as e:\n",
    "    print(e)"
   ]
  },
  {
   "cell_type": "code",
   "execution_count": 2,
   "metadata": {},
   "outputs": [],
   "source": [
    "# CREATE A KEYSPACE TO DO OUR WORK\n",
    "try:\n",
    "    session.execute(\"\"\"CREATE KEYSPACE IF NOT EXISTS udacity WITH REPLICATION = {'class': 'SimpleStrategy', 'replication_factor':1}\"\"\")\n",
    "except Exception as e:\n",
    "    print(e)\n",
    "\n",
    "# SET THE KEYSPACE/SCHEMA NAME\n",
    "try:\n",
    "    session.set_keyspace('udacity')\n",
    "except Exception as e:\n",
    "    print(e)"
   ]
  },
  {
   "source": [
    "Imagine we would like to start creating a new Music Library of albums.\n",
    "We want to ask 4 question of our data\n",
    "\n",
    "1. Give me every album in my music library that was released in a given year\n",
    "    - `select * from music_library WHERE YEAR=1970`\n",
    "2. Give me the album that is in my music library that was released in a given year by \"The Beatles\"\n",
    "    - `select * from music_library WHERE YEAR = 1970 AND ARTIST_NAME = \"The Beatles\"`\n",
    "3. Give me all the albums released in a given year in a give location\n",
    "    - `select * from music_library WHERE YEAR = 1970 AND LOCATION = \"Liverpool\"`\n",
    "4. Give me city that the albumn \"Let It Be\" was recorded\n",
    "    - `select city from music_library WHERE YEAR = \"1970\" AND ARTIST_NAME = \"The Beatles\" AND ALBUM_NAME=\"Let it Be\"`\n",
    "- How should we model this data? What should be our Primary Key and Partition Key? Since our data is looking for the YEAR let's start with that. \n",
    "    - From there we will add clustering columns on Artist Name and Album Name.\n",
    "    - Table Name: music_library\n",
    "        - column 1: Year\n",
    "        - column 2: Artist Name\n",
    "        - column 3: Album Name\n",
    "        - column 4: City\n",
    "        - PRIMARY KEY(year, artist_name, album_name)\n"
   ],
   "cell_type": "markdown",
   "metadata": {}
  },
  {
   "cell_type": "code",
   "execution_count": 3,
   "metadata": {},
   "outputs": [],
   "source": [
    "# CREATE THE TABLE\n",
    "query = \"CREATE TABLE IF NOT EXISTS music_library \"\n",
    "query = query + \"(year int, artist_name text, album_name text, city text, PRIMARY KEY (year, artist_name, album_name))\"\n",
    "try:\n",
    " session.execute(query)\n",
    "except Exception as e:\n",
    " print(e)"
   ]
  },
  {
   "cell_type": "code",
   "execution_count": 4,
   "metadata": {},
   "outputs": [],
   "source": [
    "# INSERT DATA INTO TABLE\n",
    "query = \"INSERT INTO music_library (year, artist_name, album_name, city)\"\n",
    "query = query + \" VALUES (%s, %s, %s, %s)\"\n",
    "\n",
    "try:\n",
    " session.execute(query, (1970, \"The Beatles\", \"Let it Be\", \"Liverpool\"))\n",
    "except Exception as e:\n",
    " print(e)\n",
    "\n",
    "try:\n",
    " session.execute(query, (1965, \"The Beatles\", \"Rubber Soul\", \"Oxford\"))\n",
    "except Exception as e:\n",
    " print(e)\n",
    "\n",
    "try:\n",
    " session.execute(query, (1965, \"The Who\", \"My Generation\", \"London\"))\n",
    "except Exception as e:\n",
    " print(e)\n",
    "\n",
    "try:\n",
    " session.execute(query, (1966, \"The Monkees\", \"The Monkees\", \"Los Angeles\"))\n",
    "except Exception as e:\n",
    " print(e)\n",
    "\n",
    "try:\n",
    " session.execute(query, (1970, \"The Carpenters\", \"Close To You\", \"San Diego\"))\n",
    "except Exception as e:\n",
    " print(e)"
   ]
  },
  {
   "cell_type": "code",
   "execution_count": 5,
   "metadata": {},
   "outputs": [
    {
     "output_type": "stream",
     "name": "stdout",
     "text": [
      "1970 The Beatles Let it Be Liverpool\n1970 The Carpenters Close To You San Diego\n"
     ]
    }
   ],
   "source": [
    "# QUERY ONE\n",
    "query = \"select * from music_library WHERE YEAR=1970\"\n",
    "try:\n",
    " rows = session.execute(query)\n",
    "except Exception as e:\n",
    " print(e)\n",
    "\n",
    "for row in rows:\n",
    " print (row.year, row.artist_name, row.album_name, row.city)"
   ]
  },
  {
   "cell_type": "code",
   "execution_count": 6,
   "metadata": {},
   "outputs": [
    {
     "output_type": "stream",
     "name": "stdout",
     "text": [
      "1970 The Beatles Let it Be Liverpool\n"
     ]
    }
   ],
   "source": [
    "# QUERY TWO\n",
    "query = \"select * from music_library WHERE YEAR=1970 AND ARTIST_NAME='The Beatles'\"\n",
    "try:\n",
    " rows = session.execute(query)\n",
    "except Exception as e:\n",
    " print(e)\n",
    "\n",
    "for row in rows:\n",
    " print (row.year, row.artist_name, row.album_name, row.city)"
   ]
  },
  {
   "cell_type": "code",
   "execution_count": 9,
   "metadata": {},
   "outputs": [
    {
     "output_type": "stream",
     "name": "stdout",
     "text": [
      "1970 The Beatles Let it Be Liverpool\n"
     ]
    }
   ],
   "source": [
    "# QUERY THREE\n",
    "query = \"select * from music_library WHERE YEAR=1970 AND ARTIST_NAME='The Beatles' AND CITY = 'Liverpool' ALLOW FILTERING\"\n",
    "try:\n",
    " rows = session.execute(query)\n",
    "except Exception as e:\n",
    " print(e)\n",
    "\n",
    "for row in rows:\n",
    " print (row.year, row.artist_name, row.album_name, row.city)"
   ]
  },
  {
   "cell_type": "code",
   "execution_count": 10,
   "metadata": {},
   "outputs": [
    {
     "output_type": "stream",
     "name": "stdout",
     "text": [
      "1970 The Beatles Let it Be Liverpool\n"
     ]
    }
   ],
   "source": [
    "# QUERY THREE\n",
    "query = \"select * from music_library WHERE YEAR=1970 AND ARTIST_NAME='The Beatles' AND ALBUM_NAME='Let it Be'\"\n",
    "try:\n",
    " rows = session.execute(query)\n",
    "except Exception as e:\n",
    " print(e)\n",
    "\n",
    "for row in rows:\n",
    " print (row.year, row.artist_name, row.album_name, row.city)"
   ]
  },
  {
   "cell_type": "code",
   "execution_count": 11,
   "metadata": {},
   "outputs": [],
   "source": [
    "# FOR DEMO PURPOSES DROP THE TABLE\n",
    "try:\n",
    " session.execute('Drop table music_library')\n",
    "except Exception as e:\n",
    " print(e)"
   ]
  },
  {
   "cell_type": "code",
   "execution_count": 12,
   "metadata": {},
   "outputs": [],
   "source": [
    "# CLOSE THE SESSION AND CLUSTER CONNECTION\n",
    "session.shutdown()\n",
    "cluster.shutdown()"
   ]
  },
  {
   "cell_type": "code",
   "execution_count": null,
   "metadata": {},
   "outputs": [],
   "source": []
  }
 ]
}