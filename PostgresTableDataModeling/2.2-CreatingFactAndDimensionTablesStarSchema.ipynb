{
 "metadata": {
  "language_info": {
   "codemirror_mode": {
    "name": "ipython",
    "version": 3
   },
   "file_extension": ".py",
   "mimetype": "text/x-python",
   "name": "python",
   "nbconvert_exporter": "python",
   "pygments_lexer": "ipython3",
   "version": "3.9.1-final"
  },
  "orig_nbformat": 2,
  "kernelspec": {
   "name": "python3",
   "display_name": "Python 3",
   "language": "python"
  }
 },
 "nbformat": 4,
 "nbformat_minor": 2,
 "cells": [
  {
   "cell_type": "code",
   "execution_count": 1,
   "metadata": {},
   "outputs": [],
   "source": [
    "import psycopg2"
   ]
  },
  {
   "cell_type": "code",
   "execution_count": 2,
   "metadata": {},
   "outputs": [],
   "source": [
    "# Create a connection to the database, get a cursor, and set autocommit to true\n",
    "try:\n",
    " conn = psycopg2.connect(\"host=127.0.0.1 dbname=demo001\")\n",
    "except psycopg2.Error as e:\n",
    " print(\"Error: Could not make connection to the Postgres database\")\n",
    " print(e)\n",
    "try:\n",
    " cur = conn.cursor()\n",
    "except psycopg2.Error as e:\n",
    " print(\"Error: Could not get curser to the Database\")\n",
    " print(e)\n",
    "conn.set_session(autocommit=True)"
   ]
  },
  {
   "source": [
    "### There will be many tables in our database but let's just focus on 4 tables around customer purchases.\n",
    "\n",
    "Table Name: customer_transactions\n",
    "- column: customer_id\n",
    "- column: store_id\n",
    "- column: spent\n",
    "\n",
    "Table Name: customer\n",
    "- column: customer_id\n",
    "- column: name\n",
    "- column: rewards\n",
    "\n",
    "Table Name: store\n",
    "- column: store_id\n",
    "- column: state\n",
    "\n",
    "Table Name: items_purchased\n",
    "- column: customer_id\n",
    "- column: item_name\n",
    "\n",
    "From this representation we can already start to see the makings of a \"STAR\". We have one fact table (the center of the star) and 3 dimension tables that are coming from it.\""
   ],
   "cell_type": "markdown",
   "metadata": {}
  },
  {
   "cell_type": "code",
   "execution_count": 3,
   "metadata": {},
   "outputs": [],
   "source": [
    "# Let's create the Fact Table and insert the data into the table\n",
    "try:\n",
    " cur.execute(\"CREATE TABLE IF NOT EXISTS customer_transactions (customer_id int, store_id int, spent numeric);\")\n",
    "except psycopg2.Error as e:\n",
    " print(\"Error: Issue creating table\", e)\n",
    "\n",
    "#Insert into all tables\n",
    "try:\n",
    " cur.execute(\"INSERT INTO customer_transactions (customer_id, store_id, spent) \\\n",
    " VALUES (%s, %s, %s)\", \\\n",
    " (1, 1, 20.50))\n",
    "except psycopg2.Error as e:\n",
    " print(\"Error: Inserting Rows\", e)\n",
    "try:\n",
    " cur.execute(\"INSERT INTO customer_transactions (customer_id, store_id, spent) \\\n",
    " VALUES (%s, %s, %s)\", \\\n",
    " (2, 1, 35.21))\n",
    "except psycopg2.Error as e:\n",
    " print(\"Error: Inserting Rows\", e)"
   ]
  },
  {
   "cell_type": "code",
   "execution_count": 4,
   "metadata": {},
   "outputs": [],
   "source": [
    "# Let's create our Dimension Tables and insert data into those tables.\n",
    "try:\n",
    " cur.execute(\"CREATE TABLE IF NOT EXISTS items_purchased (customer_id int, item_number int, item_name varchar);\")\n",
    "except psycopg2.Error as e:\n",
    " print(\"Error: Issue creating table\")\n",
    " print (e)\n",
    "\n",
    "try:\n",
    " cur.execute(\"INSERT INTO items_purchased (customer_id, item_number, item_name) \\\n",
    " VALUES (%s, %s, %s)\", \\\n",
    " (1, 1, \"Rubber Soul\"))\n",
    "except psycopg2.Error as e:\n",
    " print(\"Error: Inserting Rows\")\n",
    " print (e)\n",
    "\n",
    "try:\n",
    " cur.execute(\"INSERT INTO items_purchased (customer_id, item_number, item_name) \\\n",
    " VALUES (%s, %s, %s)\", \\\n",
    " (2, 3, \"Let It Be\"))\n",
    "except psycopg2.Error as e:\n",
    " print(\"Error: Inserting Rows\")\n",
    " print (e)\n",
    "\n",
    "try:\n",
    " cur.execute(\"CREATE TABLE IF NOT EXISTS store (store_id int, state varchar);\")\n",
    "except psycopg2.Error as e:\n",
    " print(\"Error: Issue creating table\")\n",
    " print (e)\n",
    "\n",
    "try:\n",
    " cur.execute(\"INSERT INTO store (store_id, state) \\\n",
    " VALUES (%s, %s)\", \\\n",
    " (1, \"CA\"))\n",
    "except psycopg2.Error as e:\n",
    " print(\"Error: Inserting Rows\")\n",
    " print (e)\n",
    "try:\n",
    " cur.execute(\"INSERT INTO store (store_id, state) \\\n",
    " VALUES (%s, %s)\", \\\n",
    " (2, \"WA\"))\n",
    "except psycopg2.Error as e:\n",
    " print(\"Error: Inserting Rows\")\n",
    " print (e)\n",
    "\n",
    "try:\n",
    " cur.execute(\"CREATE TABLE IF NOT EXISTS customer (customer_id int, name varchar, rewards boolean);\")\n",
    "except psycopg2.Error as e:\n",
    " print(\"Error: Issue creating table\")\n",
    " print (e)\n",
    "\n",
    "try:\n",
    " cur.execute(\"INSERT INTO customer (customer_id, name, rewards) \\\n",
    " VALUES (%s, %s, %s)\", \\\n",
    " (1, \"Amanda\", True))\n",
    "except psycopg2.Error as e:\n",
    " print(\"Error: Inserting Rows\")\n",
    " print (e)\n",
    "\n",
    "try:\n",
    " cur.execute(\"INSERT INTO customer (customer_id, name, rewards) \\\n",
    " VALUES (%s, %s, %s)\", \\\n",
    " (2, \"Toby\", False))\n",
    "except psycopg2.Error as e:\n",
    " print(\"Error: Inserting Rows\", e)"
   ]
  },
  {
   "source": [
    "### We can do a variety of queries on this data easily because of utilizing the fact/dimension and Star Schema\n",
    "\n",
    "- Query 1: Find all the customers that spent more than 30 dollars, who are they, what did they buy and if they are a rewards member \n",
    "\n",
    "- Query 2: How much did Store 1 sell?"
   ],
   "cell_type": "markdown",
   "metadata": {}
  },
  {
   "cell_type": "code",
   "execution_count": 5,
   "metadata": {},
   "outputs": [
    {
     "output_type": "stream",
     "name": "stdout",
     "text": [
      "('Toby', 'Let It Be', False)\n"
     ]
    }
   ],
   "source": [
    "# QUERY 1\n",
    "try:\n",
    " cur.execute(\"SELECT name, item_name, rewards FROM ((customer_transactions \\\n",
    "                JOIN customer ON customer.customer_id=customer_transactions.customer_id)\\\n",
    "                JOIN items_purchased ON customer_transactions.customer_id=items_purchased.customer_id)\\\n",
    "                WHERE spent > 30 ;\")\n",
    "\n",
    "\n",
    "except psycopg2.Error as e:\n",
    " print(\"Error: select *\")\n",
    " print (e)\n",
    "\n",
    "row = cur.fetchone()\n",
    "while row:\n",
    " print(row)\n",
    " row = cur.fetchone()"
   ]
  },
  {
   "cell_type": "code",
   "execution_count": 6,
   "metadata": {},
   "outputs": [
    {
     "output_type": "stream",
     "name": "stdout",
     "text": [
      "(1, Decimal('55.71'))\n"
     ]
    }
   ],
   "source": [
    "# Query 2:_ How much did Store 1 sell?\n",
    "try:\n",
    " cur.execute(\"SELECT store_id, SUM(spent) FROM customer_transactions GROUP BY store_id;\")\n",
    "\n",
    "except psycopg2.Error as e:\n",
    " print(\"Error: select *\")\n",
    " print (e)\n",
    "\n",
    "row = cur.fetchone()\n",
    "while row:\n",
    " print(row)\n",
    " row = cur.fetchone()"
   ]
  },
  {
   "source": [
    "### Summary: \n",
    "From this elegant schema we were able to get \"facts/metrics\" from our fact table (how much each store sold), and also information about our customers that will allow us to do more indepth analytics to get answers to business questions by utilizing our fact and dimension tables. "
   ],
   "cell_type": "markdown",
   "metadata": {}
  },
  {
   "cell_type": "code",
   "execution_count": 7,
   "metadata": {},
   "outputs": [],
   "source": [
    "# For demo sake drop the table.\n",
    "try:\n",
    " cur.execute(\"DROP table customer_transactions\")\n",
    "except psycopg2.Error as e:\n",
    " print(\"Error: Dropping table\", e)\n",
    "try:\n",
    " cur.execute(\"DROP table items_purchased\")\n",
    "except psycopg2.Error as e:\n",
    " print(\"Error: Dropping table\")\n",
    " print (e)\n",
    "try:\n",
    " cur.execute(\"DROP table customer\")\n",
    "except psycopg2.Error as e:\n",
    " print(\"Error: Dropping table\")\n",
    " print (e)\n",
    "try:\n",
    " cur.execute(\"DROP table store\")\n",
    "except psycopg2.Error as e:\n",
    " print(\"Error: Dropping table\")\n",
    " print (e)"
   ]
  },
  {
   "cell_type": "code",
   "execution_count": 8,
   "metadata": {},
   "outputs": [],
   "source": [
    "# And finally close your cursor and connection.\n",
    "cur.close()\n",
    "conn.close()"
   ]
  },
  {
   "cell_type": "code",
   "execution_count": null,
   "metadata": {},
   "outputs": [],
   "source": []
  }
 ]
}